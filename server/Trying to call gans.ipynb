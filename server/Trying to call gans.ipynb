{
 "cells": [
  {
   "cell_type": "code",
   "execution_count": 1,
   "id": "f49ef626",
   "metadata": {
    "scrolled": false
   },
   "outputs": [],
   "source": [
    "import numpy as np\n",
    "from flask import Flask, jsonify, request, render_template\n",
    "from tensorflow.keras.models import load_model\n",
    "import matplotlib.pyplot as plt\n",
    "import base64\n",
    "import io\n",
    "import os\n",
    "import cv2\n",
    "from PIL import Image\n",
    "import base64\n",
    "\n",
    "app = Flask(__name__, static_url_path='/static')\n",
    "\n",
    "# Load the trained generator model\n",
    "generator = load_model('C:/Users/BenLXH/Desktop/FYP/FACE/generator_model.h5')  # Replace with the path to your generator model\n",
    "\n",
    "@app.route('/')\n",
    "def index():\n",
    "    return render_template('try.html')\n",
    "\n",
    "@app.route('/generate_image', methods=['POST'])\n",
    "def generate_image():\n",
    "    # Generate a new image\n",
    "    noise = np.random.normal(0, 1, (1, 100))\n",
    "    generated_image = generator.predict(noise)\n",
    "\n",
    "    # Convert the image to base64 string\n",
    "    image_data = generated_image[0, :, :, 0]\n",
    "    image_data = (image_data * 255).astype(np.uint8)\n",
    "    image = Image.fromarray(image_data)\n",
    "    buffer = io.BytesIO()\n",
    "    image.save(buffer, format='PNG')\n",
    "    image_base64 = base64.b64encode(buffer.getvalue()).decode('utf-8')\n",
    "\n",
    "    # Return the image as a JSON response\n",
    "    return jsonify(image_data=image_base64)\n",
    "\n",
    "@app.route('/upload', methods=['POST'])\n",
    "def upload():\n",
    "    if 'image' in request.files:\n",
    "        image = request.files['image']\n",
    "        filename = image.filename\n",
    "        filepath = os.path.join(app.config['UPLOAD_FOLDER'], filename)\n",
    "        image.save(filepath)\n",
    "        # You can perform additional operations on the uploaded image if needed\n",
    "        thumbnail_size = (200, 200)  # Define the size of the thumbnail\n",
    "        thumbnail_filename = 'thumbnail_' + filename\n",
    "        thumbnail_filepath = os.path.join(app.config['UPLOAD_FOLDER'], thumbnail_filename)\n",
    "        img = Image.open(filepath)\n",
    "        img.thumbnail(thumbnail_size)\n",
    "        img.save(thumbnail_filepath)\n",
    "        # Finally, return the URL or any relevant information about the uploaded image\n",
    "        return f'/uploads/{filename}'\n",
    "    else:\n",
    "        return 'No image file provided.'\n",
    "    \n",
    "@app.route('/process_image', methods=['POST'])\n",
    "def process_image():\n",
    "    # Retrieve the image data from the request\n",
    "    image_data = request.files['imageData'].read()\n",
    "\n",
    "    # Convert image data to numpy array\n",
    "    nparr = np.frombuffer(image_data, np.uint8)\n",
    "    image = cv2.imdecode(nparr, cv2.IMREAD_COLOR)\n",
    "\n",
    "    # Convert image to grayscale\n",
    "    gray = cv2.cvtColor(image, cv2.COLOR_BGR2GRAY)\n",
    "\n",
    "    # Invert the grayscale image\n",
    "    inverted = 255 - gray\n",
    "\n",
    "    # Apply Gaussian blur\n",
    "    blurred = cv2.GaussianBlur(inverted, (21, 21), 0, 0)\n",
    "\n",
    "    # Create the sketch by dividing grayscale image by the inverse blurred image\n",
    "    sketch = cv2.divide(gray, 255 - blurred, scale=256)\n",
    "\n",
    "    # Convert the sketch to base64 image data\n",
    "    _, processed_image_data = cv2.imencode('.png', sketch)\n",
    "    processed_image_data = processed_image_data.tobytes()\n",
    "    processed_image_data = base64.b64encode(processed_image_data).decode('utf-8')\n",
    "\n",
    "    # Return the processed image data\n",
    "    return processed_image_data\n"
   ]
  },
  {
   "cell_type": "code",
   "execution_count": null,
   "id": "a025e857",
   "metadata": {
    "scrolled": false
   },
   "outputs": [
    {
     "name": "stdout",
     "output_type": "stream",
     "text": [
      " * Serving Flask app \"__main__\" (lazy loading)\n",
      " * Environment: production\n",
      "\u001b[31m   WARNING: This is a development server. Do not use it in a production deployment.\u001b[0m\n",
      "\u001b[2m   Use a production WSGI server instead.\u001b[0m\n",
      " * Debug mode: off\n"
     ]
    },
    {
     "name": "stderr",
     "output_type": "stream",
     "text": [
      " * Running on http://localhost:5000/ (Press CTRL+C to quit)\n",
      "127.0.0.1 - - [17/May/2023 21:19:04] \"GET / HTTP/1.1\" 200 -\n",
      "127.0.0.1 - - [17/May/2023 21:19:04] \"GET /static/fb.png HTTP/1.1\" 304 -\n",
      "127.0.0.1 - - [17/May/2023 21:19:04] \"GET / HTTP/1.1\" 200 -\n",
      "127.0.0.1 - - [17/May/2023 21:19:04] \"GET /static/ig.png HTTP/1.1\" 304 -\n",
      "127.0.0.1 - - [17/May/2023 21:19:04] \"GET /static/tweet.png HTTP/1.1\" 304 -\n",
      "127.0.0.1 - - [17/May/2023 21:19:04] \"GET /static/tiktok.png HTTP/1.1\" 304 -\n",
      "127.0.0.1 - - [17/May/2023 21:19:04] \"GET /static/bg.png HTTP/1.1\" 304 -\n",
      "127.0.0.1 - - [17/May/2023 21:19:22] \"GET / HTTP/1.1\" 200 -\n",
      "127.0.0.1 - - [17/May/2023 21:19:22] \"GET / HTTP/1.1\" 200 -\n"
     ]
    }
   ],
   "source": [
    "if __name__ == '__main__':\n",
    "    app.config['UPLOAD_FOLDER'] = 'static/uploads'\n",
    "    app.run(host='localhost', port=5000)"
   ]
  },
  {
   "cell_type": "code",
   "execution_count": null,
   "id": "846ecc61",
   "metadata": {},
   "outputs": [],
   "source": []
  }
 ],
 "metadata": {
  "kernelspec": {
   "display_name": "Python 3 (ipykernel)",
   "language": "python",
   "name": "python3"
  },
  "language_info": {
   "codemirror_mode": {
    "name": "ipython",
    "version": 3
   },
   "file_extension": ".py",
   "mimetype": "text/x-python",
   "name": "python",
   "nbconvert_exporter": "python",
   "pygments_lexer": "ipython3",
   "version": "3.9.12"
  }
 },
 "nbformat": 4,
 "nbformat_minor": 5
}
